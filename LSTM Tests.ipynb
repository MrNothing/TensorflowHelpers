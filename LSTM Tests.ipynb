{
 "cells": [
  {
   "cell_type": "markdown",
   "metadata": {},
   "source": [
    "This project contains small tests using LSTM for classification and prediction"
   ]
  },
  {
   "cell_type": "markdown",
   "metadata": {},
   "source": [
    "Test 1: "
   ]
  },
  {
   "cell_type": "markdown",
   "metadata": {},
   "source": [
    "    The objective of this test is to predict the amount of passengers for a given year using the international-airline-passengers.csv dataset"
   ]
  },
  {
   "cell_type": "code",
   "execution_count": null,
   "metadata": {
    "collapsed": true
   },
   "outputs": [],
   "source": [
    "#Step 1: Training\n",
    "    \n",
    "from helpers.extractor import *\n",
    "from helpers.deezer_tools import *\n",
    "from helpers.neural_network import *\n",
    "\n",
    "loader = CSVExtractor(fileName=\"inputs/datasets/international-airline-passengers.csv\", startLine=1)\n",
    "\n",
    "network = ConvNet(loader, \n",
    "                  n_steps=21,\n",
    "                  training_iters=10000, \n",
    "                  display_step=1, \n",
    "                  learning_rate = 0.001, \n",
    "                  batch_size=256)\n",
    "print(network.n_input)\n",
    "print(network.n_classes)\n",
    "\n",
    "x=tf.placeholder(\"float\", [None, 20, 1])\n",
    "\n",
    "layers = []\n",
    "layers.append(LSTMOperation(cells=[32], n_classes=network.n_classes))\n",
    "\n",
    "network.Run(layers=layers, x=x, save_path=\"graphs/PassengersGraph\")"
   ]
  },
  {
   "cell_type": "code",
   "execution_count": null,
   "metadata": {
    "collapsed": true
   },
   "outputs": [],
   "source": [
    "#Step 2: Prediction\n",
    "#todo..."
   ]
  },
  {
   "cell_type": "markdown",
   "metadata": {},
   "source": [
    "Test 2:"
   ]
  },
  {
   "cell_type": "markdown",
   "metadata": {},
   "source": [
    "    The objective of this test is to teach the program to count using only LSTM"
   ]
  },
  {
   "cell_type": "code",
   "execution_count": 2,
   "metadata": {
    "collapsed": false
   },
   "outputs": [
    {
     "ename": "IndentationError",
     "evalue": "expected an indented block (extractor.py, line 42)",
     "output_type": "error",
     "traceback": [
      "\u001b[0;36m  File \u001b[0;32m\"C:\\Users\\Boris\\Documents\\Projects\\Tensorflow\\TensorFlow Projects\\helpers\\extractor.py\"\u001b[0;36m, line \u001b[0;32m42\u001b[0m\n\u001b[0;31m    class Encoder:\u001b[0m\n\u001b[0m                  ^\u001b[0m\n\u001b[0;31mIndentationError\u001b[0m\u001b[0;31m:\u001b[0m expected an indented block\n"
     ]
    }
   ],
   "source": [
    "from helpers.extractor import *\n",
    "from helpers.deezer_tools import *\n",
    "from helpers.neural_network import *\n",
    "\n",
    "loader = CounterGenerator()\n",
    "\n",
    "network = ConvNet(loader, \n",
    "                  n_steps=21,\n",
    "                  training_iters=200000, \n",
    "                  display_step=1, \n",
    "                  learning_rate = 0.001, \n",
    "                  batch_size=256)\n",
    "print(network.n_input)\n",
    "print(network.n_classes)\n",
    "\n",
    "x=tf.placeholder(\"float\", [None, 20, 1])\n",
    "\n",
    "layers = []\n",
    "layers.append(LSTMOperation(cells=[32], n_classes=network.n_classes))\n",
    "\n",
    "network.Run(layers=layers, x=x, save_path=\"graphs/CounterGraph\")"
   ]
  },
  {
   "cell_type": "code",
   "execution_count": null,
   "metadata": {
    "collapsed": true
   },
   "outputs": [],
   "source": []
  }
 ],
 "metadata": {
  "anaconda-cloud": {},
  "kernelspec": {
   "display_name": "Python [conda root]",
   "language": "python",
   "name": "conda-root-py"
  },
  "language_info": {
   "codemirror_mode": {
    "name": "ipython",
    "version": 3
   },
   "file_extension": ".py",
   "mimetype": "text/x-python",
   "name": "python",
   "nbconvert_exporter": "python",
   "pygments_lexer": "ipython3",
   "version": "3.5.2"
  }
 },
 "nbformat": 4,
 "nbformat_minor": 1
}
