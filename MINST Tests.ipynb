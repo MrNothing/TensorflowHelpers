{
 "cells": [
  {
   "cell_type": "markdown",
   "metadata": {},
   "source": [
    "The objective of this project is to classify handwritten digits using the MINST dataset"
   ]
  },
  {
   "cell_type": "markdown",
   "metadata": {},
   "source": [
    "    Multi Layer Conv-Net"
   ]
  },
  {
   "cell_type": "code",
   "execution_count": null,
   "metadata": {
    "collapsed": true
   },
   "outputs": [],
   "source": [
    "from helpers.extractor import *\n",
    "from helpers.neural_network import *\n",
    "\n",
    "loader = MinstLoader(\"inputs/datasets/MNIST_data/\")\n",
    "network = ConvNet(loader, training_iters=12800, display_step=1)\n",
    "\n",
    "network.Run(save_path=\"graphs/MinstGraph\")"
   ]
  },
  {
   "cell_type": "markdown",
   "metadata": {},
   "source": [
    "    LSTM"
   ]
  },
  {
   "cell_type": "code",
   "execution_count": null,
   "metadata": {
    "collapsed": true
   },
   "outputs": [],
   "source": [
    "from helpers.extractor import *\n",
    "from helpers.neural_network import *\n",
    "\n",
    "loader = MinstLoader(\"inputs/datasets/MNIST_data/\")\n",
    "network = ConvNet(loader, \n",
    "                  n_steps=28,\n",
    "                  training_iters=100000, \n",
    "                  display_step=1, \n",
    "                  learning_rate = 0.001, \n",
    "                  batch_size=128)\n",
    "\n",
    "print(network.n_input)\n",
    "print(network.n_classes)\n",
    "\n",
    "x=tf.placeholder(\"float\", [None, 28, 28])\n",
    "\n",
    "layers = []\n",
    "layers.append(LSTMOperation(cells=[512], network.n_classes))\n",
    "\n",
    "network.Run(x=x, layers=layers, save_path=\"graphs/Cifar10Graph\")"
   ]
  }
 ],
 "metadata": {
  "anaconda-cloud": {},
  "kernelspec": {
   "display_name": "Python [default]",
   "language": "python",
   "name": "python3"
  },
  "language_info": {
   "codemirror_mode": {
    "name": "ipython",
    "version": 3
   },
   "file_extension": ".py",
   "mimetype": "text/x-python",
   "name": "python",
   "nbconvert_exporter": "python",
   "pygments_lexer": "ipython3",
   "version": "3.5.2"
  }
 },
 "nbformat": 4,
 "nbformat_minor": 1
}
