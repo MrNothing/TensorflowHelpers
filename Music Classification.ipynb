{
 "cells": [
  {
   "cell_type": "code",
   "execution_count": null,
   "metadata": {
    "collapsed": false,
    "scrolled": false
   },
   "outputs": [
    {
     "name": "stdout",
     "output_type": "stream",
     "text": [
      "5184\n",
      "1000\n",
      "reshape: (?, 72, 72, 1)\n",
      "conv2d: (?, 72, 72, 32)\n",
      "maxpool2d: (?, 36, 36, 32)\n",
      "conv2d: (?, 36, 36, 64)\n",
      "maxpool2d: (?, 18, 18, 64)\n",
      "reshape: (?, 20736)\n",
      "wx+b: (?, 1024)\n",
      "relu: (?, 1024)\n",
      "dropout: (?, 1024)\n",
      "wx+b: (?, 1000)\n"
     ]
    }
   ],
   "source": [
    "from helpers.extractor import *\n",
    "from helpers.deezer_tools import *\n",
    "from helpers.neural_network import *\n",
    "\n",
    "loader = DeezerLoader(sample_size=1/256)\n",
    "network = ConvNet(loader, training_iters=5000)\n",
    "print(network.n_input)\n",
    "print(network.n_classes)\n",
    "\n",
    "network.Run()\n"
   ]
  },
  {
   "cell_type": "code",
   "execution_count": null,
   "metadata": {
    "collapsed": true
   },
   "outputs": [],
   "source": []
  },
  {
   "cell_type": "code",
   "execution_count": null,
   "metadata": {
    "collapsed": true
   },
   "outputs": [],
   "source": []
  },
  {
   "cell_type": "code",
   "execution_count": null,
   "metadata": {
    "collapsed": true
   },
   "outputs": [],
   "source": []
  }
 ],
 "metadata": {
  "anaconda-cloud": {},
  "kernelspec": {
   "display_name": "Python [conda root]",
   "language": "python",
   "name": "conda-root-py"
  },
  "language_info": {
   "codemirror_mode": {
    "name": "ipython",
    "version": 3
   },
   "file_extension": ".py",
   "mimetype": "text/x-python",
   "name": "python",
   "nbconvert_exporter": "python",
   "pygments_lexer": "ipython3",
   "version": "3.5.2"
  }
 },
 "nbformat": 4,
 "nbformat_minor": 1
}
