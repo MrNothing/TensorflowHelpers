{
 "cells": [
  {
   "cell_type": "code",
   "execution_count": null,
   "metadata": {
    "collapsed": false,
    "scrolled": false
   },
   "outputs": [
    {
     "name": "stdout",
     "output_type": "stream",
     "text": [
      "5184\n",
      "1000\n",
      "reshape: (?, 72, 72, 1)\n",
      "conv2d: (?, 72, 72, 32)\n",
      "maxpool2d: (?, 36, 36, 32)\n",
      "conv2d: (?, 36, 36, 64)\n",
      "maxpool2d: (?, 18, 18, 64)\n",
      "reshape: (?, 20736)\n",
      "wx+b: (?, 1024)\n",
      "relu: (?, 1024)\n",
      "dropout: (?, 1024)\n",
      "wx+b: (?, 1000)\n",
      "loaded track:80000760 label: 16\n",
      "extracted 128 samples\n",
      "loaded track:73547639 label: 113\n",
      "extracted 128 samples\n",
      "loaded track:46244051 label: 16\n",
      "extracted 128 samples\n",
      "loaded track:69087733 label: 75\n",
      "extracted 128 samples\n",
      "loaded track:111846838 label: 132\n",
      "extracted 128 samples\n",
      "loaded track:16811463 label: 152\n",
      "extracted 128 samples\n",
      "loaded track:7226293 label: 52\n",
      "extracted 128 samples\n",
      "loaded track:64681857 label: 113\n",
      "extracted 128 samples\n",
      "loaded track:70750022 label: 153\n",
      "extracted 128 samples\n",
      "loaded track:13540263 label: 84\n",
      "extracted 128 samples\n",
      "Iter 1280, Minibatch Loss= 445513.593750, Training Accuracy= 0.00000\n",
      "loaded track:97332024 label: 2\n",
      "extracted 128 samples\n",
      "loaded track:3067217 label: 153\n",
      "extracted 128 samples\n",
      "loaded track:5195630 label: 52\n",
      "extracted 128 samples\n",
      "loaded track:92878088 label: 106\n",
      "extracted 128 samples\n",
      "loaded track:89734277 label: 12\n",
      "extracted 128 samples\n",
      "loaded track:3613548 label: 152\n",
      "extracted 128 samples\n",
      "loaded track:96488692 label: 12\n",
      "extracted 128 samples\n",
      "loaded track:66982948 label: 52\n",
      "extracted 128 samples\n",
      "loaded track:139364551 label: 98\n",
      "extracted 128 samples\n",
      "loaded track:2948919 label: 153\n",
      "extracted 128 samples\n",
      "Iter 2560, Minibatch Loss= 70205.828125, Training Accuracy= 0.26562\n",
      "loaded track:108207572 label: 153\n",
      "extracted 128 samples\n",
      "loaded track:63282029 label: 466\n",
      "extracted 128 samples\n",
      "loaded track:114829786 label: 52\n",
      "extracted 128 samples\n",
      "loaded track:290375 label: 169\n",
      "extracted 128 samples\n",
      "loaded track:137788767 label: 116\n",
      "extracted 128 samples\n",
      "loaded track:130851728 label: 85\n",
      "extracted 128 samples\n",
      "loaded track:1301077 label: 12\n",
      "extracted 128 samples\n",
      "loaded track:609381 label: 132\n",
      "extracted 128 samples\n",
      "loaded track:98265296 label: 116\n",
      "extracted 128 samples\n",
      "loaded track:1670567 label: 12\n",
      "extracted 128 samples\n",
      "Iter 3840, Minibatch Loss= 53443.261719, Training Accuracy= 0.31250\n",
      "loaded track:14881628 label: 85\n",
      "extracted 128 samples\n"
     ]
    }
   ],
   "source": [
    "from helpers.extractor import *\n",
    "from helpers.deezer_tools import *\n",
    "from helpers.neural_network import *\n",
    "\n",
    "loader = DeezerLoader(sample_size=1/256)\n",
    "network = ConvNet(loader, training_iters=5000)\n",
    "print(network.n_input)\n",
    "print(network.n_classes)\n",
    "\n",
    "network.Run()\n"
   ]
  },
  {
   "cell_type": "code",
   "execution_count": null,
   "metadata": {
    "collapsed": true
   },
   "outputs": [],
   "source": []
  },
  {
   "cell_type": "code",
   "execution_count": null,
   "metadata": {
    "collapsed": true
   },
   "outputs": [],
   "source": []
  },
  {
   "cell_type": "code",
   "execution_count": null,
   "metadata": {
    "collapsed": true
   },
   "outputs": [],
   "source": []
  }
 ],
 "metadata": {
  "anaconda-cloud": {},
  "kernelspec": {
   "display_name": "Python [conda root]",
   "language": "python",
   "name": "conda-root-py"
  },
  "language_info": {
   "codemirror_mode": {
    "name": "ipython",
    "version": 3
   },
   "file_extension": ".py",
   "mimetype": "text/x-python",
   "name": "python",
   "nbconvert_exporter": "python",
   "pygments_lexer": "ipython3",
   "version": "3.5.2"
  }
 },
 "nbformat": 4,
 "nbformat_minor": 1
}
