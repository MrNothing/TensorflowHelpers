{
 "cells": [
  {
   "cell_type": "markdown",
   "metadata": {},
   "source": [
    "The objective of this project is to classify 32*32 RGB pictures from the CIFAR10 dataset"
   ]
  },
  {
   "cell_type": "markdown",
   "metadata": {},
   "source": [
    "    This is what the input data looks like:"
   ]
  },
  {
   "cell_type": "code",
   "execution_count": 1,
   "metadata": {
    "collapsed": false
   },
   "outputs": [
    {
     "name": "stdout",
     "output_type": "stream",
     "text": [
      "Loading files...\n",
      "Loaded: inputs/datasets/cifar10/data_batch_1\n",
      "Loaded: inputs/datasets/cifar10/data_batch_2\n",
      "Loaded: inputs/datasets/cifar10/data_batch_3\n",
      "Loaded: inputs/datasets/cifar10/data_batch_4\n",
      "Loaded: inputs/datasets/cifar10/data_batch_5\n",
      "Loaded: inputs/datasets/cifar10/test_batch\n"
     ]
    },
    {
     "data": {
      "image/png": "[encoded data removed]",
      "text/plain": [
       "<PIL.Image.Image image mode=RGBA size=32x32 at 0x385EB0AA90>"
      ]
     },
     "metadata": {},
     "output_type": "display_data"
    },
    {
     "name": "stdout",
     "output_type": "stream",
     "text": [
      "[0, 0, 0, 0, 0, 0, 1, 0, 0, 0]\n"
     ]
    },
    {
     "data": {
      "image/png": "[encoded data removed]",
      "text/plain": [
       "<PIL.Image.Image image mode=RGBA size=32x32 at 0x385EB0A9E8>"
      ]
     },
     "metadata": {},
     "output_type": "display_data"
    },
    {
     "name": "stdout",
     "output_type": "stream",
     "text": [
      "[0, 0, 1, 0, 0, 0, 0, 0, 0, 0]\n"
     ]
    },
    {
     "data": {
      "image/png": "[encoded data removed]",
      "text/plain": [
       "<PIL.Image.Image image mode=RGBA size=32x32 at 0x385EB0AB00>"
      ]
     },
     "metadata": {},
     "output_type": "display_data"
    },
    {
     "name": "stdout",
     "output_type": "stream",
     "text": [
      "[0, 0, 0, 0, 0, 0, 0, 0, 1, 0]\n"
     ]
    },
    {
     "data": {
      "image/png": "[encoded data removed]",
      "text/plain": [
       "<PIL.Image.Image image mode=RGBA size=32x32 at 0x385EB0AC50>"
      ]
     },
     "metadata": {},
     "output_type": "display_data"
    },
    {
     "name": "stdout",
     "output_type": "stream",
     "text": [
      "[0, 0, 0, 0, 0, 0, 0, 0, 0, 1]\n"
     ]
    },
    {
     "data": {
      "image/png": "[encoded data removed]",
      "text/plain": [
       "<PIL.Image.Image image mode=RGBA size=32x32 at 0x384CAA36D8>"
      ]
     },
     "metadata": {},
     "output_type": "display_data"
    },
    {
     "name": "stdout",
     "output_type": "stream",
     "text": [
      "[0, 0, 0, 1, 0, 0, 0, 0, 0, 0]\n"
     ]
    },
    {
     "data": {
      "image/png": "[encoded data removed]",
      "text/plain": [
       "<PIL.Image.Image image mode=RGBA size=32x32 at 0x385EB505C0>"
      ]
     },
     "metadata": {},
     "output_type": "display_data"
    },
    {
     "name": "stdout",
     "output_type": "stream",
     "text": [
      "[0, 0, 0, 0, 0, 1, 0, 0, 0, 0]\n"
     ]
    },
    {
     "data": {
      "image/png": "[encoded data removed]",
      "text/plain": [
       "<PIL.Image.Image image mode=RGBA size=32x32 at 0x385EB0AB00>"
      ]
     },
     "metadata": {},
     "output_type": "display_data"
    },
    {
     "name": "stdout",
     "output_type": "stream",
     "text": [
      "[0, 0, 0, 0, 0, 0, 0, 0, 1, 0]\n"
     ]
    },
    {
     "data": {
      "image/png": "[encoded data removed]",
      "text/plain": [
       "<PIL.Image.Image image mode=RGBA size=32x32 at 0x385EB0A9E8>"
      ]
     },
     "metadata": {},
     "output_type": "display_data"
    },
    {
     "name": "stdout",
     "output_type": "stream",
     "text": [
      "[0, 1, 0, 0, 0, 0, 0, 0, 0, 0]\n"
     ]
    },
    {
     "data": {
      "image/png": "[encoded data removed]",
      "text/plain": [
       "<PIL.Image.Image image mode=RGBA size=32x32 at 0x385EB505C0>"
      ]
     },
     "metadata": {},
     "output_type": "display_data"
    },
    {
     "name": "stdout",
     "output_type": "stream",
     "text": [
      "[0, 0, 0, 0, 0, 0, 0, 0, 1, 0]\n"
     ]
    },
    {
     "data": {
      "image/png": "[encoded data removed]",
      "text/plain": [
       "<PIL.Image.Image image mode=RGBA size=32x32 at 0x385EB0A9E8>"
      ]
     },
     "metadata": {},
     "output_type": "display_data"
    },
    {
     "name": "stdout",
     "output_type": "stream",
     "text": [
      "[0, 0, 0, 0, 0, 0, 0, 1, 0, 0]\n"
     ]
    }
   ],
   "source": [
    "from helpers.extractor import *\n",
    "#network.Plot()\n",
    "loader = CifarLoader(\"inputs/datasets/cifar10/\", \"RGB\")\n",
    "\n",
    "for k in range(10):\n",
    "    imgData=loader.getNextBatch(1)\n",
    "    imgClass=imgData[1][0]\n",
    "    data = imgData[0][0]\n",
    "    img = Image.new( 'RGBA', (32,32), \"white\")\n",
    "    pixels = img.load()\n",
    "\n",
    "    for i in range(img.size[0]*img.size[1]):    # for every pixel:\n",
    "            r = int(data[i]*255)\n",
    "            g = int(data[32*32+i]*255)\n",
    "            b = int(data[32*32*2+i]*255)\n",
    "            \n",
    "            x  = i%img.size[0]\n",
    "            y = int(i/img.size[0])\n",
    "            pixels[x,y] = (r, g, b, 255) # set the colour accordingly\n",
    "\n",
    "    display(img)\n",
    "    print(imgClass)"
   ]
  },
  {
   "cell_type": "markdown",
   "metadata": {},
   "source": [
    "    ConvNet Classification:"
   ]
  },
  {
   "cell_type": "code",
   "execution_count": null,
   "metadata": {
    "collapsed": true
   },
   "outputs": [],
   "source": [
    "from helpers.extractor import *\n",
    "from helpers.neural_network import *\n",
    "\n",
    "loader = CifarLoader(\"inputs/datasets/cifar10/\", \"RGB\")\n",
    "network = ConvNet(loader, \n",
    "                  n_steps = 32*3,\n",
    "                  training_iters=10000, \n",
    "                  display_step=1, \n",
    "                  learning_rate = 0.001, \n",
    "                  batch_size=128)\n",
    "\n",
    "x=tf.placeholder(\"float\", [None, 32*3, 32])\n",
    "\n",
    "layers = []\n",
    "layers.append(NNOperation(\"reshape\", [-1, 32*3, 32, 1]))\n",
    "layers.append(NNOperation(\"conv2d\", [3, 3, 1, 32]))\n",
    "layers.append(NNOperation(\"maxpool2d\", 2)) #16\n",
    "layers.append(NNOperation(\"conv2d\", [3, 3, 32, 64]))\n",
    "layers.append(NNOperation(\"maxpool2d\", 2)) #8\n",
    "layers.append(NNOperation(\"conv2d\", [3, 3, 64, 128]))\n",
    "layers.append(NNOperation(\"maxpool2d\", 2)) #4\n",
    "layers.append(NNOperation(\"reshape\", [-1, 12*128, 4]))\n",
    "layers.append(NNOperation(\"local\", [12*128*4, 1024], [1024]))\n",
    "layers.append(NNOperation(\"local\", [1024, 256], [256]))\n",
    "layers.append(NNOperation(\"relu\"))\n",
    "layers.append(NNOperation(\"dropout\", self.dropout))\n",
    "layers.append(NNOperation(\"local\", [256, 10], [10]))\n",
    "\n",
    "network.Run(x=x, layers=layers, save_path=\"graphs/Cifar10Graph\")"
   ]
  },
  {
   "cell_type": "markdown",
   "metadata": {},
   "source": [
    "    LSTM Classification:"
   ]
  },
  {
   "cell_type": "code",
   "execution_count": null,
   "metadata": {
    "collapsed": true
   },
   "outputs": [],
   "source": [
    "from helpers.extractor import *\n",
    "from helpers.neural_network import *\n",
    "\n",
    "loader = CifarLoader(\"inputs/datasets/cifar10/\", \"RGB\")\n",
    "network = ConvNet(loader, \n",
    "                  n_steps = 32*3,\n",
    "                  training_iters=10000, \n",
    "                  display_step=1, \n",
    "                  learning_rate = 0.001, \n",
    "                  batch_size=128)\n",
    "\n",
    "x=tf.placeholder(\"float\", [None, 32*3, 32])\n",
    "\n",
    "layers = []\n",
    "layers.append(LSTMOperation(cells=[64], n_classes=network.n_classes))\n",
    "network.Run(x=x, layers=layers, save_path=\"graphs/Cifar10Graph\")"
   ]
  },
  {
   "cell_type": "code",
   "execution_count": null,
   "metadata": {
    "collapsed": true
   },
   "outputs": [],
   "source": []
  }
 ],
 "metadata": {
  "anaconda-cloud": {},
  "kernelspec": {
   "display_name": "Python [default]",
   "language": "python",
   "name": "python3"
  },
  "language_info": {
   "codemirror_mode": {
    "name": "ipython",
    "version": 3
   },
   "file_extension": ".py",
   "mimetype": "text/x-python",
   "name": "python",
   "nbconvert_exporter": "python",
   "pygments_lexer": "ipython3",
   "version": "3.5.2"
  }
 },
 "nbformat": 4,
 "nbformat_minor": 1
}
